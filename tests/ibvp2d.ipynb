{
 "cells": [
  {
   "cell_type": "markdown",
   "id": "af0be023",
   "metadata": {},
   "source": [
    "# Imports and configuration"
   ]
  },
  {
   "cell_type": "code",
   "execution_count": 1,
   "id": "72a8a375",
   "metadata": {},
   "outputs": [],
   "source": [
    "import numpy as np\n",
    "\n",
    "import os \n",
    "import matplotlib.pyplot as plt\n",
    "import sys\n",
    "import pandas as pd\n",
    "\n",
    "#os.environ['XLA_FLAGS'] = '--xla_gpu_cuda_data_dir=/home/simone/anaconda3/envs/tf-gpu' # path/to/cuda\n",
    "os.environ['TF_CPP_MIN_LOG_LEVEL'] = '2'\n",
    "import tensorflow as tf \n",
    "tf.keras.utils.set_random_seed(1111)\n",
    "tf.config.experimental.enable_op_determinism()\n",
    "\n",
    "sys.path.append(\"../\")\n",
    "import models\n",
    "import nn\n",
    "from DataGen import DataGen"
   ]
  },
  {
   "cell_type": "code",
   "execution_count": 2,
   "id": "f93eac1a",
   "metadata": {},
   "outputs": [],
   "source": [
    "# Save path\n",
    "path = \"./ibvp2d\"\n",
    "csv_path = os.path.join(path, \"errors.csv\")"
   ]
  },
  {
   "cell_type": "markdown",
   "id": "10b947f5",
   "metadata": {},
   "source": [
    "# Main program"
   ]
  },
  {
   "cell_type": "code",
   "execution_count": 3,
   "id": "c9b5837a",
   "metadata": {},
   "outputs": [
    {
     "name": "stdout",
     "output_type": "stream",
     "text": [
      "\n",
      "------------------> N = 1 <------------------\n",
      "29/29 [==============================] - 0s 1ms/step\n",
      "\n",
      " * Error decomposition * \n",
      "E_R =  0.18857342  | E_S =  0.024722043  | E_POD =  0.235091  | E_NN =  0.0015577498\n",
      "\n",
      " * Upper and lower bounds * \n",
      " 0.1503458  <=  0.18857342  <=  0.2613708\n",
      "\n",
      "------------------> N = 2 <------------------\n",
      "29/29 [==============================] - 0s 704us/step\n",
      "\n",
      " * Error decomposition * \n",
      "E_R =  0.13326392  | E_S =  0.00905215  | E_POD =  0.16738415  | E_NN =  0.0039293002\n",
      "\n",
      " * Upper and lower bounds * \n",
      " 0.10630298  <=  0.13326392  <=  0.18036559\n",
      "\n",
      "------------------> N = 4 <------------------\n",
      "29/29 [==============================] - 0s 718us/step\n",
      "\n",
      " * Error decomposition * \n",
      "E_R =  0.04900825  | E_S =  0.031691235  | E_POD =  0.05215793  | E_NN =  0.0061195013\n",
      "\n",
      " * Upper and lower bounds * \n",
      " 0.03881662  <=  0.04900825  <=  0.08996867\n",
      "\n",
      "------------------> N = 8 <------------------\n",
      "29/29 [==============================] - 0s 559us/step\n",
      "\n",
      " * Error decomposition * \n",
      "E_R =  0.024880849  | E_S =  0.018520132  | E_POD =  0.022150533  | E_NN =  0.007823532\n",
      "\n",
      " * Upper and lower bounds * \n",
      " 0.018363556  <=  0.024880849  <=  0.048494197\n",
      "\n",
      "------------------> N = 16 <------------------\n",
      "29/29 [==============================] - 0s 661us/step\n",
      "\n",
      " * Error decomposition * \n",
      "E_R =  0.014839806  | E_S =  0.011088735  | E_POD =  0.0063721975  | E_NN =  0.01041434\n",
      "\n",
      " * Upper and lower bounds * \n",
      " 0.008134153  <=  0.014839806  <=  0.027875274\n",
      "\n",
      "------------------> N = 32 <------------------\n",
      "29/29 [==============================] - 0s 1ms/step\n",
      "\n",
      " * Error decomposition * \n",
      "E_R =  0.015521159  | E_S =  0.006426638  | E_POD =  0.0013960752  | E_NN =  0.014531632\n",
      "\n",
      " * Upper and lower bounds * \n",
      " 0.0041827676  <=  0.015521159  <=  0.022354346\n",
      "\n",
      "------------------> N = 64 <------------------\n",
      "29/29 [==============================] - 0s 755us/step\n",
      "\n",
      " * Error decomposition * \n",
      "E_R =  0.016843863  | E_S =  0.0047637313  | E_POD =  0.00016504987  | E_NN =  0.016369289\n",
      "\n",
      " * Upper and lower bounds * \n",
      " 0.003031621  <=  0.016843863  <=  0.02129807\n",
      "\n",
      "------------------> N = 128 <------------------\n",
      "29/29 [==============================] - 0s 920us/step\n",
      "\n",
      " * Error decomposition * \n",
      "E_R =  0.017835861  | E_S =  0.0030311444  | E_POD =  5.388532e-06  | E_NN =  0.017655594\n",
      "\n",
      " * Upper and lower bounds * \n",
      " 0.0019278555  <=  0.017835861  <=  0.020692127\n"
     ]
    }
   ],
   "source": [
    "pod_dim_range = 2**np.arange(8)\n",
    "errors = dict()\n",
    "errors['N'] = pod_dim_range\n",
    "\n",
    "for i in range(len(pod_dim_range)):\n",
    "    \n",
    "    # Model hyperparameters\n",
    "    n_params = 2\n",
    "    latent_dim = 5\n",
    "    pod_dim = int(pod_dim_range[i])\n",
    "    alpha_train = 0.9\n",
    "    n_epochs = 500\n",
    "    lr = 3e-3\n",
    "    batch_size = 10\n",
    "    n_early_stopping = 250\n",
    "    N_t = 20\n",
    "\n",
    "    # Loading data from files\n",
    "    parent_dir_files =  os.path.join('..', 'data_appx', 'ibvp2d')\n",
    "    filenames = dict()\n",
    "    filenames['params'] = os.path.join(parent_dir_files, 'params_train_600.mat')\n",
    "    filenames['target'] = os.path.join(parent_dir_files, 'S_U_train_600.mat')\n",
    "    filenames_test = dict()\n",
    "    filenames_test['params'] = os.path.join(parent_dir_files, 'params_test.mat')\n",
    "    filenames_test['target'] = os.path.join(parent_dir_files, 'S_U_test.mat')\n",
    "    data_gen = DataGen(pod_dim = pod_dim, alpha_train = alpha_train, rpod = True)\n",
    "    data_gen.read(filenames, filenames_test, transpose = True, N_t = N_t)\n",
    "\n",
    "\n",
    "    # Define POD-DL-ROM components\n",
    "    reduced_network = nn.DenseNetwork(\n",
    "        width = 10, \n",
    "        depth = 3, \n",
    "        output_dim = latent_dim\n",
    "    )\n",
    "    encoder_network = nn.DenseNetwork(\n",
    "        width = 25, \n",
    "        depth = 5, \n",
    "        output_dim = latent_dim\n",
    "    )\n",
    "    decoder_network = nn.DenseNetwork(\n",
    "        width = 25, \n",
    "        depth = 5, \n",
    "        output_dim = pod_dim\n",
    "    )\n",
    "\n",
    "    # Assemble POD-DL-ROM architecture\n",
    "    architecture = dict()\n",
    "    architecture['reduced_network'] = reduced_network\n",
    "    architecture['encoder_network'] = encoder_network\n",
    "    architecture['decoder_network'] = decoder_network\n",
    "    poddlrom_model_train, poddlrom_model_test = nn.create_dlrom(\n",
    "        n_inputs = n_params,\n",
    "        architecture = architecture\n",
    "    )\n",
    "\n",
    "    # Instantiate the model\n",
    "    poddlrom = models.PODNetwork(\n",
    "        data_gen = data_gen,\n",
    "        model_train = poddlrom_model_train,\n",
    "        model_test = poddlrom_model_test,\n",
    "        save_folder = 'ibvp2d',\n",
    "        name = 'net' + str(i)\n",
    "    )\n",
    "\n",
    "    # Train, load or test model\n",
    "    print('\\n------------------> N = %d <------------------' % pod_dim)\n",
    "    poddlrom.compile(lr = lr, n_early_stopping = n_early_stopping)\n",
    "    poddlrom.fit(batch_size = batch_size, n_epochs = n_epochs, verbose = 0)\n",
    "    poddlrom.load()\n",
    "    err_dict = poddlrom.test()\n",
    "    \n",
    "    # Update errors collection\n",
    "    if i == 0:\n",
    "        for key in err_dict.keys():\n",
    "            errors[key] = list()\n",
    "    for key in err_dict.keys():\n",
    "            errors[key].append(err_dict[key])\n",
    "    \n"
   ]
  },
  {
   "cell_type": "markdown",
   "id": "e5ff1cff",
   "metadata": {},
   "source": [
    "# Save csv"
   ]
  },
  {
   "cell_type": "code",
   "execution_count": 4,
   "id": "470e6849",
   "metadata": {},
   "outputs": [],
   "source": [
    "# Convert to dataframe\n",
    "errors_df = pd.DataFrame.from_dict(errors)\n",
    "\n",
    "# Save csv file with errors\n",
    "if not os.path.exists(path):\n",
    "    os.makedirs(path)\n",
    "csv_path = os.path.join(path, \"errors.csv\")\n",
    "errors_df.to_csv(csv_path) "
   ]
  },
  {
   "cell_type": "markdown",
   "id": "39218155",
   "metadata": {},
   "source": [
    "# Load csv and visualize"
   ]
  },
  {
   "cell_type": "code",
   "execution_count": 6,
   "id": "93d79674",
   "metadata": {},
   "outputs": [
    {
     "data": {
      "image/png": "[encoded data removed]",
      "text/plain": [
       "<Figure size 640x480 with 1 Axes>"
      ]
     },
     "metadata": {},
     "output_type": "display_data"
    }
   ],
   "source": [
    "# Load csv\n",
    "errors_df = pd.read_csv(csv_path)\n",
    "\n",
    "# Plot\n",
    "plt.semilogx(errors_df['N'], errors_df['lower_bound'], \n",
    "             'k:', linewidth = 3, label = r'$\\frac{m}{M} \\tilde{\\mathcal{E}}_{POD}$')\n",
    "plt.semilogx(errors_df['N'], errors_df['E_R'],\n",
    "             'r-', linewidth = 3, label = '$\\mathcal{E}_R$')\n",
    "plt.semilogx(errors_df['N'], errors_df['upper_bound'],\n",
    "             'k--', linewidth = 3, label = '$\\mathcal{E}_{NN} + \\mathcal{E}_S + \\mathcal{E}_{POD}$')\n",
    "plt.fill_between(errors_df['N'], errors_df['E_NN'], 0, color = 'b', alpha = 0.3,\n",
    "                 label = '$\\mathcal{E}_{NN}$', edgecolor = None)\n",
    "plt.fill_between(errors_df['N'], errors_df['E_S'] + errors_df['E_NN'], errors_df['E_NN'],\n",
    "                 color = 'g', alpha = 0.3, label = '$\\mathcal{E}_{S}$', edgecolor = None)\n",
    "plt.fill_between(errors_df['N'], errors_df['E_S'] + errors_df['E_NN'] + errors_df['E_POD'],\n",
    "                 errors_df['E_NN'] + errors_df['E_S'], color = 'lightpink', alpha = 0.5,\n",
    "                 label = '$\\mathcal{E}_{POD}$', edgecolor = None)\n",
    "plt.legend(bbox_to_anchor=(1.04, 0.5), loc = \"center left\", borderaxespad = 0, fontsize = 16)\n",
    "plt.xlabel('$N$', fontsize = 18)\n",
    "plt.show()"
   ]
  },
  {
   "cell_type": "code",
   "execution_count": null,
   "id": "68ab5b38",
   "metadata": {},
   "outputs": [],
   "source": []
  }
 ],
 "metadata": {
  "kernelspec": {
   "display_name": "Python 3 (ipykernel)",
   "language": "python",
   "name": "python3"
  },
  "language_info": {
   "codemirror_mode": {
    "name": "ipython",
    "version": 3
   },
   "file_extension": ".py",
   "mimetype": "text/x-python",
   "name": "python",
   "nbconvert_exporter": "python",
   "pygments_lexer": "ipython3",
   "version": "3.11.4"
  }
 },
 "nbformat": 4,
 "nbformat_minor": 5
}
